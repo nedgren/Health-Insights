{
 "cells": [
  {
   "cell_type": "code",
   "execution_count": 1,
   "metadata": {},
   "outputs": [],
   "source": [
    "import pandas as pd\n",
    "import numpy as np\n",
    "import matplotlib.pyplot as plt\n",
    "from sklearn.preprocessing import StandardScaler\n",
    "from sklearn.impute import KNNImputer\n",
    "from sklearn.pipeline import Pipeline\n",
    "from sklearn.model_selection import train_test_split, KFold, cross_validate\n",
    "from xgboost import XGBRegressor\n",
    "from sklearn.ensemble import RandomForestRegressor\n",
    "from sklearn.linear_model import LinearRegression\n",
    "from sklearn.metrics import root_mean_squared_error\n",
    "\n",
    "#We may want these at some point for transforming our output:\n",
    "#from scipy.special import logit, expit\n",
    "\n",
    "pd.set_option('display.max_columns', None) #forces all columns to be displayed\n",
    "pd.set_option('display.max_rows', None) #forces all rows to be displayed"
   ]
  },
  {
   "cell_type": "code",
   "execution_count": 2,
   "metadata": {},
   "outputs": [],
   "source": [
    "filepath = r'../data/data-reduced-train.csv'\n",
    "data = pd.read_csv(filepath)\n",
    "\n",
    "%run ../data/features-grouped.ipynb\n",
    "%run ../data/model-information.ipynb"
   ]
  },
  {
   "cell_type": "code",
   "execution_count": 3,
   "metadata": {},
   "outputs": [],
   "source": [
    "#set paramaters and other important presets\n",
    "xgb_parameters = xgb_best_params_full   #from model-information.ipynb\n",
    "n_neighbors = 10                        #neighbors for kNN imputation\n",
    "percent_black_threshold = 50\n",
    "percent_white_threshold = 50\n",
    "percent_asian_threshold = 50\n",
    "percent_hispanic_threshold = 50"
   ]
  },
  {
   "cell_type": "code",
   "execution_count": 5,
   "metadata": {},
   "outputs": [],
   "source": [
    "#split data based on thresholds\n",
    "\n",
    "high_asian_counties = data[data['% Asian'] >= percent_asian_threshold]\n",
    "high_black_counties = data[data['% Black'] >= percent_black_threshold]\n",
    "high_hispanic_counties = data[data['% Hispanic'] >= percent_hispanic_threshold]\n",
    "high_white_counties = data[data['% Non-Hispanic White'] >= percent_white_threshold]"
   ]
  },
  {
   "cell_type": "code",
   "execution_count": 7,
   "metadata": {},
   "outputs": [],
   "source": [
    "race_split_dict = {'High Asian Counties': high_asian_counties, \n",
    "                   'High Black Counties': high_black_counties, \n",
    "                   'High Hispanic Counties': high_hispanic_counties, \n",
    "                   'High White Counties': high_white_counties}"
   ]
  },
  {
   "cell_type": "code",
   "execution_count": null,
   "metadata": {},
   "outputs": [],
   "source": [
    "#run cross-validation OR a simple train/holdout split, depending on data size, on xgb and linear models\n",
    "\n",
    "xgb_pipe = Pipeline([('impute', KNNImputer(n_neighbors)),\n",
    "                     ('xgb', XGBRegressor(**xgb_parameters))])\n",
    "\n",
    "for key, df in race_split_dict:\n",
    "    #split data into train/val sets\n",
    "    #name model(s)\n",
    "    #fit model to train set\n",
    "    #Compute, store, and print training RMSEs\n",
    "    #Compute, store, and print validation RMSEs\n",
    "\n",
    "\n",
    "\n",
    "#linear_pipe\n",
    "#baseline models\n",
    "#RFC?"
   ]
  },
  {
   "cell_type": "code",
   "execution_count": null,
   "metadata": {},
   "outputs": [],
   "source": [
    "#plot feature importances"
   ]
  },
  {
   "cell_type": "code",
   "execution_count": null,
   "metadata": {},
   "outputs": [],
   "source": [
    "#modeling on reduced subset of features? Perhaps in a new notebook, or the initial modeling notebook"
   ]
  },
  {
   "cell_type": "code",
   "execution_count": null,
   "metadata": {},
   "outputs": [],
   "source": []
  }
 ],
 "metadata": {
  "kernelspec": {
   "display_name": "erdos_fall_2024",
   "language": "python",
   "name": "python3"
  },
  "language_info": {
   "codemirror_mode": {
    "name": "ipython",
    "version": 3
   },
   "file_extension": ".py",
   "mimetype": "text/x-python",
   "name": "python",
   "nbconvert_exporter": "python",
   "pygments_lexer": "ipython3",
   "version": "3.12.5"
  }
 },
 "nbformat": 4,
 "nbformat_minor": 2
}
