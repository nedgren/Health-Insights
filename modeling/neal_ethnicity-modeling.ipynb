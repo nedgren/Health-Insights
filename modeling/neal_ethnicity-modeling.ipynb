{
 "cells": [
  {
   "cell_type": "code",
   "execution_count": null,
   "metadata": {},
   "outputs": [],
   "source": [
    "import pandas as pd\n",
    "import numpy as np\n",
    "import matplotlib.pyplot as plt\n",
    "from sklearn.preprocessing import StandardScaler\n",
    "from sklearn.impute import KNNImputer\n",
    "from sklearn.pipeline import Pipeline\n",
    "from sklearn.model_selection import train_test_split, KFold\n",
    "from xgboost import XGBRegressor\n",
    "from sklearn.ensemble import RandomForestRegressor\n",
    "from sklearn.linear_model import LinearRegression\n",
    "from sklearn.metrics import root_mean_squared_error\n",
    "\n",
    "#We may want these at some point for transforming our output:\n",
    "#from scipy.special import logit, expit\n",
    "\n",
    "pd.set_option('display.max_columns', None) #forces all columns to be displayed\n",
    "pd.set_option('display.max_rows', None) #forces all rows to be displayed"
   ]
  },
  {
   "cell_type": "code",
   "execution_count": null,
   "metadata": {},
   "outputs": [],
   "source": [
    "filepath = r'../data/data_reduced_train.csv'\n",
    "data = pd.read_csv(filepath)\n",
    "\n",
    "%run ../data/features_grouped.ipynb"
   ]
  },
  {
   "cell_type": "code",
   "execution_count": null,
   "metadata": {},
   "outputs": [],
   "source": [
    "#set paramaters and other important presets\n",
    "xgb_parameters = {}\n",
    "n_neighbors = 10    #neighbors for kNN imputation\n",
    "percent_black_threshold = 0.5\n",
    "percent_white_threshold = 0.5\n",
    "percent_asian_threshold = 0.5\n",
    "percent_hispanic_threshold = 0.5"
   ]
  },
  {
   "cell_type": "code",
   "execution_count": null,
   "metadata": {},
   "outputs": [],
   "source": [
    "#split data based on thresholds"
   ]
  },
  {
   "cell_type": "code",
   "execution_count": null,
   "metadata": {},
   "outputs": [],
   "source": [
    "#run cross-validation OR a simple train/holdout split, depending on data size, on xgb and linear models, with parameters from Shravan's notebook\n",
    "\n",
    "xgb_pipe = Pipeline([('impute', KNNImputer(n_neighbors)),\n",
    "                     ('xgb', XGBRegressor(**xgb_parameters))])\n",
    "\n",
    "#linear_pipe\n",
    "#baseline?\n",
    "#RFC?"
   ]
  },
  {
   "cell_type": "code",
   "execution_count": null,
   "metadata": {},
   "outputs": [],
   "source": [
    "#consider feature importances"
   ]
  },
  {
   "cell_type": "code",
   "execution_count": null,
   "metadata": {},
   "outputs": [],
   "source": [
    "#modeling on reduced subset of features? Perhaps in a new notebook."
   ]
  }
 ],
 "metadata": {
  "kernelspec": {
   "display_name": "erdos_fall_2024",
   "language": "python",
   "name": "python3"
  },
  "language_info": {
   "codemirror_mode": {
    "name": "ipython",
    "version": 3
   },
   "file_extension": ".py",
   "mimetype": "text/x-python",
   "name": "python",
   "nbconvert_exporter": "python",
   "pygments_lexer": "ipython3",
   "version": "3.12.5"
  }
 },
 "nbformat": 4,
 "nbformat_minor": 2
}
