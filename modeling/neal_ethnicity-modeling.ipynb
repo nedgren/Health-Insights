{
 "cells": [
  {
   "cell_type": "code",
   "execution_count": 7,
   "metadata": {},
   "outputs": [],
   "source": [
    "import pandas as pd\n",
    "import numpy as np\n",
    "import matplotlib.pyplot as plt\n",
    "from sklearn.preprocessing import StandardScaler\n",
    "from sklearn.impute import KNNImputer\n",
    "from sklearn.pipeline import Pipeline\n",
    "from sklearn.model_selection import train_test_split, KFold, cross_validate\n",
    "from xgboost import XGBRegressor\n",
    "from sklearn.ensemble import RandomForestRegressor\n",
    "from sklearn.linear_model import LinearRegression\n",
    "from sklearn.metrics import root_mean_squared_error\n",
    "\n",
    "#We may want these at some point for transforming our output:\n",
    "#from scipy.special import logit, expit\n",
    "\n",
    "pd.set_option('display.max_columns', None) #forces all columns to be displayed\n",
    "pd.set_option('display.max_rows', None) #forces all rows to be displayed"
   ]
  },
  {
   "cell_type": "code",
   "execution_count": null,
   "metadata": {},
   "outputs": [],
   "source": [
    "filepath = r'../data/data-reduced-train.csv'\n",
    "data = pd.read_csv(filepath)"
   ]
  },
  {
   "cell_type": "code",
   "execution_count": 61,
   "metadata": {},
   "outputs": [],
   "source": [
    "#split data based on thresholds\n",
    "percent_asian_threshold = 5\n",
    "percent_black_threshold = 10\n",
    "percent_hispanic_threshold = 10\n",
    "percent_white_threshold = 50\n",
    "\n",
    "high_asian_counties = data[data['% Asian'] >= percent_asian_threshold]\n",
    "high_black_counties = data[data['% Black'] >= percent_black_threshold]\n",
    "high_hispanic_counties = data[data['% Hispanic'] >= percent_hispanic_threshold]\n",
    "high_white_counties = data[data['% Non-Hispanic White'] >= percent_white_threshold]\n",
    "\n",
    "race_splits = {#'High Asian Counties': high_asian_counties,\n",
    "               'High Black Counties': high_black_counties,\n",
    "               'High Hispanic Counties': high_hispanic_counties,\n",
    "               'High White Counties': high_white_counties}"
   ]
  },
  {
   "cell_type": "code",
   "execution_count": 22,
   "metadata": {},
   "outputs": [],
   "source": [
    "%run ../data/features-grouped.ipynb\n",
    "%run ../data/model-information.ipynb"
   ]
  },
  {
   "cell_type": "code",
   "execution_count": 24,
   "metadata": {},
   "outputs": [],
   "source": [
    "health_behaviors_features = extract_feature_names_by_category(data, 'Health Behaviors')\n",
    "access_to_care_features = extract_feature_names_by_category(data, 'Access to Care')\n",
    "socio_economic_features = extract_feature_names_by_category(data, 'Socio-economic Factors')\n",
    "physical_environment_features = extract_feature_names_by_category(data, 'Physical Environment')\n",
    "demographics_features = extract_feature_names_by_category(data, 'Demographics')\n",
    "\n",
    "all_features = data.columns[4:].to_list()\n",
    "target = data.columns[3] #'% Adults with Diabetes'"
   ]
  },
  {
   "cell_type": "code",
   "execution_count": 28,
   "metadata": {},
   "outputs": [],
   "source": [
    "models = {\n",
    "    \"Model 1 (All Features)\": {'Features': all_features, 'Parameters': xgb_best_params_full},\n",
    "    \"Model 2 (Health Behaviors)\": {'Features': health_behaviors_features, 'Parameters': xgb_best_params_health},\n",
    "    \"Model 3 (Access to Care)\": {'Features': access_to_care_features, 'Parameters': xgb_best_params_care},\n",
    "    \"Model 4 (Socio-economic Factors)\": {'Features': socio_economic_features, 'Parameters': xgb_best_params_socioecon},\n",
    "    \"Model 5 (Physical Environment)\": {'Features': physical_environment_features, 'Parameters': xgb_best_params_environment},\n",
    "    \"Model 6 (Demographics)\": {'Features': demographics_features, 'Parameters': xgb_best_params_demographic}\n",
    "}"
   ]
  },
  {
   "cell_type": "code",
   "execution_count": null,
   "metadata": {},
   "outputs": [],
   "source": [
    "#run cross-validation OR a simple train/holdout split, depending on data size, on xgb and linear models\n",
    "\n",
    "n_neighbors = 10 #neighbors for kNN imputation\n",
    "\n",
    "def model_error(model, df, features, target):\n",
    "    model_preds = model.predict(df[features])\n",
    "    return root_mean_squared_error(df[target], model_preds)\n",
    "\n",
    "results = {}\n",
    "models = {}\n",
    "\n",
    "for race_split, df in race_splits.items():\n",
    "    #split data into train/val sets\n",
    "    df_train, df_val = train_test_split(df,test_size=0.1, random_state=42)\n",
    "\n",
    "    for model_name, model_info in models.items():\n",
    "        features = model_info['Features']         #list of features for feature subset model\n",
    "        parameters = model_info['Parameters']     #dict of best parameters for the model\n",
    "\n",
    "        #instantiate model(s)\n",
    "        xgb_pipe = Pipeline([('impute', KNNImputer(n_neighbors=n_neighbors)),\n",
    "                     ('xgb', XGBRegressor(**parameters))])\n",
    "    \n",
    "        #fit model(s) to train set\n",
    "        #xgb_pipe.fit(df_train[features], df_train[target])\n",
    "\n",
    "        #Compute and store training RMSEs\n",
    "        #training_rmses['Training RMSE on ' + key] = model_error(xgb_pipe, df_train, features, target)\n",
    "        #Compute and store validation RMSEs\n",
    "        #val_rmses['Validation RMSE on ' + key] = model_error(xgb_pipe, )\n",
    "\n",
    "\n",
    "\n",
    "#linear_pipe\n",
    "#baseline models\n",
    "#RFC?"
   ]
  },
  {
   "cell_type": "code",
   "execution_count": null,
   "metadata": {},
   "outputs": [],
   "source": [
    "#plot feature importances"
   ]
  },
  {
   "cell_type": "code",
   "execution_count": null,
   "metadata": {},
   "outputs": [],
   "source": []
  }
 ],
 "metadata": {
  "kernelspec": {
   "display_name": "erdos_fall_2024",
   "language": "python",
   "name": "python3"
  },
  "language_info": {
   "codemirror_mode": {
    "name": "ipython",
    "version": 3
   },
   "file_extension": ".py",
   "mimetype": "text/x-python",
   "name": "python",
   "nbconvert_exporter": "python",
   "pygments_lexer": "ipython3",
   "version": "3.12.5"
  }
 },
 "nbformat": 4,
 "nbformat_minor": 2
}
