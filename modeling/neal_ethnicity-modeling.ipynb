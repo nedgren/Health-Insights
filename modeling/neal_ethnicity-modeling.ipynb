{
 "cells": [
  {
   "cell_type": "code",
   "execution_count": 7,
   "metadata": {},
   "outputs": [],
   "source": [
    "import pandas as pd\n",
    "import numpy as np\n",
    "import matplotlib.pyplot as plt\n",
    "from sklearn.preprocessing import StandardScaler\n",
    "from sklearn.impute import KNNImputer\n",
    "from sklearn.pipeline import Pipeline\n",
    "from sklearn.model_selection import train_test_split, KFold, cross_validate\n",
    "from xgboost import XGBRegressor\n",
    "from sklearn.ensemble import RandomForestRegressor\n",
    "from sklearn.linear_model import LinearRegression\n",
    "from sklearn.metrics import root_mean_squared_error\n",
    "\n",
    "#We may want these at some point for transforming our output:\n",
    "#from scipy.special import logit, expit\n",
    "\n",
    "pd.set_option('display.max_columns', None) #forces all columns to be displayed\n",
    "pd.set_option('display.max_rows', None) #forces all rows to be displayed"
   ]
  },
  {
   "cell_type": "code",
   "execution_count": 8,
   "metadata": {},
   "outputs": [],
   "source": [
    "filepath = r'../data/data-reduced-train.csv'\n",
    "data = pd.read_csv(filepath)\n",
    "\n",
    "%run ../data/features-grouped.ipynb\n",
    "%run ../data/model-information.ipynb\n",
    "\n",
    "features = data.columns[4:].to_list()\n",
    "target = data.columns[3]"
   ]
  },
  {
   "cell_type": "code",
   "execution_count": null,
   "metadata": {},
   "outputs": [],
   "source": [
    "#set paramaters and other important presets\n",
    "xgb_parameters = xgb_best_params_full   #from model-information.ipynb\n",
    "n_neighbors = 10                        #neighbors for kNN imputation\n",
    "\n",
    "# Create a dictionary of feature sets for models\n",
    "feature_sets = {\n",
    "    \"Model 1 (All Features)\": all_features,\n",
    "    \"Model 2 (Health Behaviors)\": health_behaviors_features,\n",
    "    \"Model 3 (Access to Care)\": access_to_care_features,\n",
    "    \"Model 4 (Socio-economic Factors)\": socio_economic_features,\n",
    "    \"Model 5 (Physical Environment)\": physical_environment_features,\n",
    "    \"Model 6 (Demographics)\": demographics_features\n",
    "}\n",
    "\n",
    "percent_black_threshold = 50\n",
    "percent_white_threshold = 50\n",
    "percent_asian_threshold = 50\n",
    "percent_hispanic_threshold = 50"
   ]
  },
  {
   "cell_type": "code",
   "execution_count": 4,
   "metadata": {},
   "outputs": [],
   "source": [
    "#split data based on thresholds\n",
    "\n",
    "high_asian_counties = data[data['% Asian'] >= percent_asian_threshold]\n",
    "high_black_counties = data[data['% Black'] >= percent_black_threshold]\n",
    "high_hispanic_counties = data[data['% Hispanic'] >= percent_hispanic_threshold]\n",
    "high_white_counties = data[data['% Non-Hispanic White'] >= percent_white_threshold]"
   ]
  },
  {
   "cell_type": "code",
   "execution_count": 7,
   "metadata": {},
   "outputs": [],
   "source": [
    "race_split_dict = {'High Asian Counties': high_asian_counties, \n",
    "                   'High Black Counties': high_black_counties, \n",
    "                   'High Hispanic Counties': high_hispanic_counties, \n",
    "                   'High White Counties': high_white_counties}"
   ]
  },
  {
   "cell_type": "code",
   "execution_count": null,
   "metadata": {},
   "outputs": [],
   "source": [
    "#run cross-validation OR a simple train/holdout split, depending on data size, on xgb and linear models\n",
    "\n",
    "training_rmses = {}\n",
    "val_rmses = {}\n",
    "\n",
    "def model_error(model, df, features, target):\n",
    "    model_preds = model.predict(df[features])\n",
    "    return root_mean_squared_error(df[target], model_preds)\n",
    "\n",
    "for key, df in race_split_dict:\n",
    "    #split data into train/val sets\n",
    "    df_train, df_val = train_test_split(df,test_size=0.2, random_state=42)\n",
    "\n",
    "    #instantiate model(s)\n",
    "    xgb_pipe = Pipeline([('impute', KNNImputer(n_neighbors)),\n",
    "                     ('xgb', XGBRegressor(**xgb_parameters))])\n",
    "    \n",
    "    #fit model(s) to train set\n",
    "    xgb_pipe.fit(df_train[features], df_train[target])\n",
    "\n",
    "    #Compute and store training RMSEs\n",
    "    training_rmses['Training RMSE on ' + key] = model_error(xgb_pipe, df_train, features, target)\n",
    "    #Compute and store validation RMSEs\n",
    "    val_rmses['Validation RMSE on ' + key] = model_error(xgb_pipe, )\n",
    "\n",
    "\n",
    "\n",
    "#linear_pipe\n",
    "#baseline models\n",
    "#RFC?"
   ]
  },
  {
   "cell_type": "code",
   "execution_count": null,
   "metadata": {},
   "outputs": [],
   "source": [
    "#plot feature importances"
   ]
  },
  {
   "cell_type": "code",
   "execution_count": null,
   "metadata": {},
   "outputs": [],
   "source": [
    "#modeling on reduced subset of features? Perhaps in a new notebook, or the initial modeling notebook"
   ]
  },
  {
   "cell_type": "code",
   "execution_count": null,
   "metadata": {},
   "outputs": [],
   "source": []
  }
 ],
 "metadata": {
  "kernelspec": {
   "display_name": "erdos_fall_2024",
   "language": "python",
   "name": "python3"
  },
  "language_info": {
   "codemirror_mode": {
    "name": "ipython",
    "version": 3
   },
   "file_extension": ".py",
   "mimetype": "text/x-python",
   "name": "python",
   "nbconvert_exporter": "python",
   "pygments_lexer": "ipython3",
   "version": "3.12.5"
  }
 },
 "nbformat": 4,
 "nbformat_minor": 2
}
