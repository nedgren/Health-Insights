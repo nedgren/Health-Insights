{
 "cells": [
  {
   "cell_type": "markdown",
   "metadata": {},
   "source": [
    "### These are the optimal hyperparameters Shravan found through a randomized search tuning"
   ]
  },
  {
   "cell_type": "code",
   "execution_count": 5,
   "metadata": {},
   "outputs": [],
   "source": [
    "xgb_best_params_full = {'reg_lambda': 5, 'reg_alpha': 0.1, 'n_estimators': 150, 'max_depth': 3, 'learning_rate': 0.15250000000000002}\n",
    "\n",
    "xgb_best_params_health = {'reg_lambda': 5, 'reg_alpha': 0, 'n_estimators': 50, 'max_depth': 5, 'learning_rate': 0.2}\n",
    "\n",
    "xgb_best_params_care = {'reg_lambda': 10, 'reg_alpha': 1, 'n_estimators': 50, 'max_depth': 3, 'learning_rate': 0.2}\n",
    "\n",
    "xgb_best_params_socioecon = {'reg_lambda': 5, 'reg_alpha': 0.1, 'n_estimators': 150, 'max_depth': 3, 'learning_rate': 0.15250000000000002}\n",
    "\n",
    "xgb_best_params_environment = {'reg_lambda': 1, 'reg_alpha': 1, 'n_estimators': 100, 'max_depth': 3, 'learning_rate': 0.105}\n",
    "\n",
    "xgb_best_params_demographic = {'reg_lambda': 5, 'reg_alpha': 0.1, 'n_estimators': 150, 'max_depth': 3, 'learning_rate': 0.15250000000000002}\n"
   ]
  },
  {
   "cell_type": "code",
   "execution_count": 15,
   "metadata": {},
   "outputs": [],
   "source": [
    "import pandas as pd\n",
    "from sklearn.impute import KNNImputer\n",
    "from xgboost import XGBRegressor\n",
    "from sklearn.pipeline import Pipeline\n",
    "from sklearn.metrics import root_mean_squared_error"
   ]
  },
  {
   "cell_type": "code",
   "execution_count": null,
   "metadata": {},
   "outputs": [],
   "source": [
    "final_xgb_model = Pipeline([('impute', KNNImputer(n_neighbors=10)),\n",
    "                       ('xgb', XGBRegressor(**xgb_best_params_full))])"
   ]
  },
  {
   "cell_type": "code",
   "execution_count": null,
   "metadata": {},
   "outputs": [],
   "source": [
    "# If you run this notebook from one in another directory, the filepath will throw an error, because it will search for the path there\n",
    "# I may need to make the filepath more absolute\n",
    "\n",
    "'''filepath = 'data-reduced-train.csv'\n",
    "training_set = pd.read_csv(filepath)\n",
    "features = training_set.columns[4:].to_list()\n",
    "target = training_set.columns[3]\n",
    "\n",
    "fitted_final_xgb_model = full_model.fit(training_set[features], training_set[target])'''"
   ]
  }
 ],
 "metadata": {
  "kernelspec": {
   "display_name": "erdos_fall_2024",
   "language": "python",
   "name": "python3"
  },
  "language_info": {
   "codemirror_mode": {
    "name": "ipython",
    "version": 3
   },
   "file_extension": ".py",
   "mimetype": "text/x-python",
   "name": "python",
   "nbconvert_exporter": "python",
   "pygments_lexer": "ipython3",
   "version": "3.12.5"
  }
 },
 "nbformat": 4,
 "nbformat_minor": 4
}
