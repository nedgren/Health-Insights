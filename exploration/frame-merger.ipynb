{
 "cells": [
  {
   "cell_type": "code",
   "execution_count": 1,
   "metadata": {},
   "outputs": [],
   "source": [
    "import pandas as pd\n",
    "import numpy as np\n",
    "import matplotlib.pyplot as plt\n",
    "import seaborn as sns\n",
    "\n",
    "from seaborn import set_style\n",
    "\n",
    "set_style('whitegrid')"
   ]
  },
  {
   "cell_type": "code",
   "execution_count": 2,
   "metadata": {},
   "outputs": [],
   "source": [
    "select_measure_data_all = pd.read_excel('../data/2024_county_health_release_data_-_v1.xlsx', sheet_name=1, header=1) \n",
    "#sheet 1 contains the select measure data; header=1 removes the hierarchical column name structure.\n",
    "#You will may need to update the file path to your data"
   ]
  },
  {
   "cell_type": "code",
   "execution_count": 3,
   "metadata": {},
   "outputs": [],
   "source": [
    "additional_measure_data_all = pd.read_excel('../data/2024_county_health_release_data_-_v1.xlsx', sheet_name=3, header=1)"
   ]
  },
  {
   "cell_type": "code",
   "execution_count": 4,
   "metadata": {},
   "outputs": [],
   "source": [
    "select_measure_data_all.set_index(['FIPS','State','County'], inplace=True)\n",
    "additional_measure_data_all.set_index(['FIPS','State','County'], inplace=True)"
   ]
  },
  {
   "cell_type": "code",
   "execution_count": 5,
   "metadata": {},
   "outputs": [],
   "source": [
    "%run ../data/features.py"
   ]
  },
  {
   "cell_type": "code",
   "execution_count": 6,
   "metadata": {},
   "outputs": [],
   "source": [
    "select_measure_data_verbose = select_measure_data_all[select_measure_data_features_verbose]\n",
    "select_measure_data = select_measure_data_all[select_measure_data_features]"
   ]
  },
  {
   "cell_type": "code",
   "execution_count": 7,
   "metadata": {},
   "outputs": [],
   "source": [
    "additional_measure_data_verbose = additional_measure_data_all[additional_measure_data_features_verbose]\n",
    "additional_measure_data = additional_measure_data_all[additional_measure_data_features]"
   ]
  },
  {
   "cell_type": "code",
   "execution_count": null,
   "metadata": {},
   "outputs": [],
   "source": [
    "national_data_all = select_measure_data_all.join(additional_measure_data_all, lsuffix='_s', rsuffix='_a')\n",
    "national_data_verbose = select_measure_data_verbose.join(additional_measure_data_verbose, lsuffix='_s', rsuffix='_a')\n",
    "national_data = select_measure_data.join(additional_measure_data, lsuffix='_s', rsuffix='_a')\n"
   ]
  },
  {
   "cell_type": "code",
   "execution_count": 9,
   "metadata": {},
   "outputs": [],
   "source": [
    "#this would be better written with some control flow :)\n",
    "\n",
    "select_measure_data_all.reset_index(inplace=True)\n",
    "select_measure_data_verbose.reset_index(inplace=True)\n",
    "select_measure_data.reset_index(inplace=True)\n",
    "\n",
    "additional_measure_data_all.reset_index(inplace=True)\n",
    "additional_measure_data_verbose.reset_index(inplace=True)\n",
    "additional_measure_data.reset_index(inplace=True)\n",
    "\n",
    "national_data_all.reset_index(inplace=True)\n",
    "national_data_verbose.reset_index(inplace=True)\n",
    "national_data.reset_index(inplace=True)"
   ]
  },
  {
   "cell_type": "code",
   "execution_count": 10,
   "metadata": {},
   "outputs": [
    {
     "data": {
      "text/plain": [
       "613"
      ]
     },
     "execution_count": 10,
     "metadata": {},
     "output_type": "execute_result"
    }
   ],
   "source": [
    "len(national_data_all.columns)"
   ]
  },
  {
   "cell_type": "code",
   "execution_count": null,
   "metadata": {},
   "outputs": [],
   "source": [
    "#national_data_all.to_csv('../data/national_data_with_all_columns.csv', index=False)"
   ]
  },
  {
   "cell_type": "code",
   "execution_count": null,
   "metadata": {},
   "outputs": [],
   "source": [
    "#national_data_verbose.to_csv('../data/national_data_with_raw_numbers.csv', index=False)"
   ]
  },
  {
   "cell_type": "code",
   "execution_count": null,
   "metadata": {},
   "outputs": [],
   "source": [
    "#national_data.to_csv('../data/national_data_master.csv', index=False)"
   ]
  },
  {
   "cell_type": "code",
   "execution_count": null,
   "metadata": {},
   "outputs": [],
   "source": [
    "#test_frame = pd.read_csv('../data/national_data_master.csv')"
   ]
  },
  {
   "cell_type": "code",
   "execution_count": null,
   "metadata": {},
   "outputs": [
    {
     "data": {
      "text/plain": [
       "Index(['FIPS', 'State', 'County', 'Deaths',\n",
       "       'Years of Potential Life Lost Rate', '% Fair or Poor Health',\n",
       "       'Average Number of Physically Unhealthy Days',\n",
       "       'Average Number of Mentally Unhealthy Days', '% Low Birthweight',\n",
       "       '% Adults Reporting Currently Smoking', '% Adults with Obesity',\n",
       "       'Food Environment Index', '% Physically Inactive',\n",
       "       '% With Access to Exercise Opportunities', '% Excessive Drinking',\n",
       "       '% Driving Deaths with Alcohol Involvement', 'Chlamydia Rate',\n",
       "       'Teen Birth Rate', '% Uninsured', 'Primary Care Physicians Rate',\n",
       "       'Dentist Rate', 'Mental Health Provider Rate',\n",
       "       'Preventable Hospitalization Rate', '% with Annual Mammogram',\n",
       "       '% Vaccinated', '% Completed High School', '% Some College',\n",
       "       '% Unemployed', '% Children in Poverty', 'Income Ratio',\n",
       "       '% Children in Single-Parent Households', 'Social Association Rate',\n",
       "       'Injury Death Rate', 'Average Daily PM2.5',\n",
       "       'Presence of Water Violation', '% Severe Housing Problems',\n",
       "       '% Drive Alone to Work', '% Long Commute - Drives Alone',\n",
       "       'Life Expectancy', 'Age-Adjusted Death Rate', 'Child Mortality Rate',\n",
       "       'Infant Mortality Rate', '% Frequent Physical Distress',\n",
       "       '% Frequent Mental Distress', '% Adults with Diabetes',\n",
       "       'HIV Prevalence Rate', '% Food Insecure',\n",
       "       '% Limited Access to Healthy Foods', 'Drug Overdose Mortality Rate',\n",
       "       '% Insufficient Sleep', '% Uninsured Adults', '% Uninsured Children',\n",
       "       'Other Primary Care Provider Rate', 'High School Graduation Rate',\n",
       "       '% Disconnected Youth', 'Average Grade Performance',\n",
       "       'Average Grade Performance.1', 'Segregation Index',\n",
       "       'School Funding Adequacy', 'Gender Pay Gap', 'Median Household Income',\n",
       "       '% Enrolled in Free or Reduced Lunch', 'Segregation Index.1',\n",
       "       '% Household Income Required for Child Care Expenses',\n",
       "       'Child Care Centers per 1,000 Children', 'Homicide Rate',\n",
       "       'Suicide Rate (Age-Adjusted)', 'Firearm Fatalities Rate',\n",
       "       'Motor Vehicle Mortality Rate', 'Juvenile Arrest Rate',\n",
       "       '% Voter Turnout', '% Census Participation', 'Traffic Volume',\n",
       "       '% Homeowners', '% Households with Severe Cost Burden',\n",
       "       '% Households with Broadband Access', 'Population',\n",
       "       '% Less than 18 Years of Age', '% 65 and Over', '% Black',\n",
       "       '% American Indian or Alaska Native', '% Asian',\n",
       "       '% Native Hawaiian or Other Pacific Islander', '% Hispanic',\n",
       "       '% Non-Hispanic White', '% Not Proficient in English', '% Female',\n",
       "       '% Rural'],\n",
       "      dtype='object')"
      ]
     },
     "execution_count": 61,
     "metadata": {},
     "output_type": "execute_result"
    }
   ],
   "source": [
    "#test_frame.columns"
   ]
  },
  {
   "cell_type": "code",
   "execution_count": null,
   "metadata": {},
   "outputs": [
    {
     "data": {
      "text/plain": [
       "88"
      ]
     },
     "execution_count": 62,
     "metadata": {},
     "output_type": "execute_result"
    }
   ],
   "source": [
    "#len(national_data.columns)"
   ]
  },
  {
   "cell_type": "code",
   "execution_count": null,
   "metadata": {},
   "outputs": [],
   "source": []
  }
 ],
 "metadata": {
  "kernelspec": {
   "display_name": "erdos_fall_2024",
   "language": "python",
   "name": "python3"
  },
  "language_info": {
   "codemirror_mode": {
    "name": "ipython",
    "version": 3
   },
   "file_extension": ".py",
   "mimetype": "text/x-python",
   "name": "python",
   "nbconvert_exporter": "python",
   "pygments_lexer": "ipython3",
   "version": "3.12.5"
  }
 },
 "nbformat": 4,
 "nbformat_minor": 2
}
